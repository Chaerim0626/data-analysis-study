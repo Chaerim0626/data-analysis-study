{
 "cells": [
  {
   "cell_type": "markdown",
   "id": "758cc601-68cd-4350-855a-da7cc53e95bf",
   "metadata": {},
   "source": [
    "# Chapter1"
   ]
  }
 ],
 "metadata": {
  "kernelspec": {
   "display_name": "Python 3 (ipykernel)",
   "language": "python",
   "name": "python3"
  },
  "language_info": {
   "codemirror_mode": {
    "name": "ipython",
    "version": 3
   },
   "file_extension": ".py",
   "mimetype": "text/x-python",
   "name": "python",
   "nbconvert_exporter": "python",
   "pygments_lexer": "ipython3",
   "version": "3.11.5"
  }
 },
 "nbformat": 4,
 "nbformat_minor": 5
}
