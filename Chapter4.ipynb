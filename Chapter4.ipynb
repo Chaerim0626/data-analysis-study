{
 "cells": [
  {
   "cell_type": "markdown",
   "id": "985320cb-5d74-4d06-a224-7f823db151f6",
   "metadata": {},
   "source": [
    "# Chapter 04 데이터 요약하기\n",
    "1. 전체 데이터를 숫자로 요약하는 방법을 배우자.\n",
    "2. 데이터 분포를 살펴보고 그래프를 통해 이해하는 방법을 알아보자. "
   ]
  },
  {
   "cell_type": "markdown",
   "id": "2e9d668e-9d0f-49db-a4f5-f6f0f90d1935",
   "metadata": {},
   "source": [
    "## 04-1 통계로 요약하기\n",
    "- 기술통계: 자료의 내용을 압축해 설명하는 방법 (요약통계)\n",
    "- 대표적인 통계량: 평균, 표준편차 -> 데이터 시각화를 아우르는 이런 데이터 방법을 탐색적 데이터 분석이라고 함"
   ]
  },
  {
   "cell_type": "markdown",
   "id": "d8ea6cc0-80b4-498c-ae2b-d33362f91777",
   "metadata": {},
   "source": [
    "### 기술통계 구하기"
   ]
  },
  {
   "cell_type": "code",
   "execution_count": 1,
   "id": "7c56d48e-d442-4777-abe0-fab10e561807",
   "metadata": {
    "tags": []
   },
   "outputs": [
    {
     "name": "stderr",
     "output_type": "stream",
     "text": [
      "Downloading...\n",
      "From: https://bit.ly/3736JW1\n",
      "To: /Users/chae/Chaerim/data-analysis-study/ns_book6.csv\n",
      "100%|██████████████████████████████████████| 55.0M/55.0M [00:01<00:00, 40.2MB/s]\n"
     ]
    },
    {
     "data": {
      "text/plain": [
       "'ns_book6.csv'"
      ]
     },
     "execution_count": 1,
     "metadata": {},
     "output_type": "execute_result"
    }
   ],
   "source": [
    "# 03-2절에서 만든 ns_book6.csv 다운로드\n",
    "import gdown\n",
    "gdown.download('https://bit.ly/3736JW1', 'ns_book6.csv', quiet=False)"
   ]
  },
  {
   "cell_type": "code",
   "execution_count": 2,
   "id": "d2e905c2-f5a9-485c-a371-fe4f88ac7fa6",
   "metadata": {
    "tags": []
   },
   "outputs": [
    {
     "data": {
      "text/html": [
       "<div>\n",
       "<style scoped>\n",
       "    .dataframe tbody tr th:only-of-type {\n",
       "        vertical-align: middle;\n",
       "    }\n",
       "\n",
       "    .dataframe tbody tr th {\n",
       "        vertical-align: top;\n",
       "    }\n",
       "\n",
       "    .dataframe thead th {\n",
       "        text-align: right;\n",
       "    }\n",
       "</style>\n",
       "<table border=\"1\" class=\"dataframe\">\n",
       "  <thead>\n",
       "    <tr style=\"text-align: right;\">\n",
       "      <th></th>\n",
       "      <th>번호</th>\n",
       "      <th>도서명</th>\n",
       "      <th>저자</th>\n",
       "      <th>출판사</th>\n",
       "      <th>발행년도</th>\n",
       "      <th>ISBN</th>\n",
       "      <th>세트 ISBN</th>\n",
       "      <th>부가기호</th>\n",
       "      <th>권</th>\n",
       "      <th>주제분류번호</th>\n",
       "      <th>도서권수</th>\n",
       "      <th>대출건수</th>\n",
       "      <th>등록일자</th>\n",
       "    </tr>\n",
       "  </thead>\n",
       "  <tbody>\n",
       "    <tr>\n",
       "      <th>0</th>\n",
       "      <td>1</td>\n",
       "      <td>인공지능과 흙</td>\n",
       "      <td>김동훈 지음</td>\n",
       "      <td>민음사</td>\n",
       "      <td>2021.0</td>\n",
       "      <td>9788937444319</td>\n",
       "      <td>NaN</td>\n",
       "      <td>NaN</td>\n",
       "      <td>NaN</td>\n",
       "      <td>NaN</td>\n",
       "      <td>1</td>\n",
       "      <td>0</td>\n",
       "      <td>2021-03-19</td>\n",
       "    </tr>\n",
       "    <tr>\n",
       "      <th>1</th>\n",
       "      <td>2</td>\n",
       "      <td>가짜 행복 권하는 사회</td>\n",
       "      <td>김태형 지음</td>\n",
       "      <td>갈매나무</td>\n",
       "      <td>2021.0</td>\n",
       "      <td>9791190123969</td>\n",
       "      <td>NaN</td>\n",
       "      <td>NaN</td>\n",
       "      <td>NaN</td>\n",
       "      <td>NaN</td>\n",
       "      <td>1</td>\n",
       "      <td>0</td>\n",
       "      <td>2021-03-19</td>\n",
       "    </tr>\n",
       "    <tr>\n",
       "      <th>2</th>\n",
       "      <td>3</td>\n",
       "      <td>나도 한 문장 잘 쓰면 바랄 게 없겠네</td>\n",
       "      <td>김선영 지음</td>\n",
       "      <td>블랙피쉬</td>\n",
       "      <td>2021.0</td>\n",
       "      <td>9788968332982</td>\n",
       "      <td>NaN</td>\n",
       "      <td>NaN</td>\n",
       "      <td>NaN</td>\n",
       "      <td>NaN</td>\n",
       "      <td>1</td>\n",
       "      <td>0</td>\n",
       "      <td>2021-03-19</td>\n",
       "    </tr>\n",
       "    <tr>\n",
       "      <th>3</th>\n",
       "      <td>4</td>\n",
       "      <td>예루살렘 해변</td>\n",
       "      <td>이도 게펜 지음, 임재희 옮김</td>\n",
       "      <td>문학세계사</td>\n",
       "      <td>2021.0</td>\n",
       "      <td>9788970759906</td>\n",
       "      <td>NaN</td>\n",
       "      <td>NaN</td>\n",
       "      <td>NaN</td>\n",
       "      <td>NaN</td>\n",
       "      <td>1</td>\n",
       "      <td>0</td>\n",
       "      <td>2021-03-19</td>\n",
       "    </tr>\n",
       "    <tr>\n",
       "      <th>4</th>\n",
       "      <td>5</td>\n",
       "      <td>김성곤의 중국한시기행 : 장강·황하 편</td>\n",
       "      <td>김성곤 지음</td>\n",
       "      <td>김영사</td>\n",
       "      <td>2021.0</td>\n",
       "      <td>9788934990833</td>\n",
       "      <td>NaN</td>\n",
       "      <td>NaN</td>\n",
       "      <td>NaN</td>\n",
       "      <td>NaN</td>\n",
       "      <td>1</td>\n",
       "      <td>0</td>\n",
       "      <td>2021-03-19</td>\n",
       "    </tr>\n",
       "  </tbody>\n",
       "</table>\n",
       "</div>"
      ],
      "text/plain": [
       "   번호                    도서명                저자    출판사    발행년도           ISBN  \\\n",
       "0   1                인공지능과 흙            김동훈 지음    민음사  2021.0  9788937444319   \n",
       "1   2           가짜 행복 권하는 사회            김태형 지음   갈매나무  2021.0  9791190123969   \n",
       "2   3  나도 한 문장 잘 쓰면 바랄 게 없겠네            김선영 지음   블랙피쉬  2021.0  9788968332982   \n",
       "3   4                예루살렘 해변  이도 게펜 지음, 임재희 옮김  문학세계사  2021.0  9788970759906   \n",
       "4   5  김성곤의 중국한시기행 : 장강·황하 편            김성곤 지음    김영사  2021.0  9788934990833   \n",
       "\n",
       "  세트 ISBN 부가기호    권 주제분류번호  도서권수  대출건수        등록일자  \n",
       "0     NaN  NaN  NaN    NaN     1     0  2021-03-19  \n",
       "1     NaN  NaN  NaN    NaN     1     0  2021-03-19  \n",
       "2     NaN  NaN  NaN    NaN     1     0  2021-03-19  \n",
       "3     NaN  NaN  NaN    NaN     1     0  2021-03-19  \n",
       "4     NaN  NaN  NaN    NaN     1     0  2021-03-19  "
      ]
     },
     "execution_count": 2,
     "metadata": {},
     "output_type": "execute_result"
    }
   ],
   "source": [
    "import pandas as pd\n",
    "ns_book6 = pd.read_csv('ns_book6.csv', low_memory=False)\n",
    "ns_book6.head()"
   ]
  },
  {
   "cell_type": "code",
   "execution_count": 3,
   "id": "5f898910-2887-4e6f-840a-de69529b024c",
   "metadata": {
    "tags": []
   },
   "outputs": [
    {
     "data": {
      "text/html": [
       "<div>\n",
       "<style scoped>\n",
       "    .dataframe tbody tr th:only-of-type {\n",
       "        vertical-align: middle;\n",
       "    }\n",
       "\n",
       "    .dataframe tbody tr th {\n",
       "        vertical-align: top;\n",
       "    }\n",
       "\n",
       "    .dataframe thead th {\n",
       "        text-align: right;\n",
       "    }\n",
       "</style>\n",
       "<table border=\"1\" class=\"dataframe\">\n",
       "  <thead>\n",
       "    <tr style=\"text-align: right;\">\n",
       "      <th></th>\n",
       "      <th>번호</th>\n",
       "      <th>발행년도</th>\n",
       "      <th>도서권수</th>\n",
       "      <th>대출건수</th>\n",
       "    </tr>\n",
       "  </thead>\n",
       "  <tbody>\n",
       "    <tr>\n",
       "      <th>count</th>\n",
       "      <td>379976.000000</td>\n",
       "      <td>379976.000000</td>\n",
       "      <td>379976.000000</td>\n",
       "      <td>379976.000000</td>\n",
       "    </tr>\n",
       "    <tr>\n",
       "      <th>mean</th>\n",
       "      <td>201726.332847</td>\n",
       "      <td>2008.516306</td>\n",
       "      <td>1.135874</td>\n",
       "      <td>11.504629</td>\n",
       "    </tr>\n",
       "    <tr>\n",
       "      <th>std</th>\n",
       "      <td>115836.454596</td>\n",
       "      <td>8.780529</td>\n",
       "      <td>0.483343</td>\n",
       "      <td>19.241926</td>\n",
       "    </tr>\n",
       "    <tr>\n",
       "      <th>min</th>\n",
       "      <td>1.000000</td>\n",
       "      <td>1947.000000</td>\n",
       "      <td>0.000000</td>\n",
       "      <td>0.000000</td>\n",
       "    </tr>\n",
       "    <tr>\n",
       "      <th>25%</th>\n",
       "      <td>102202.750000</td>\n",
       "      <td>2003.000000</td>\n",
       "      <td>1.000000</td>\n",
       "      <td>2.000000</td>\n",
       "    </tr>\n",
       "    <tr>\n",
       "      <th>50%</th>\n",
       "      <td>203179.500000</td>\n",
       "      <td>2009.000000</td>\n",
       "      <td>1.000000</td>\n",
       "      <td>6.000000</td>\n",
       "    </tr>\n",
       "    <tr>\n",
       "      <th>75%</th>\n",
       "      <td>301630.250000</td>\n",
       "      <td>2015.000000</td>\n",
       "      <td>1.000000</td>\n",
       "      <td>14.000000</td>\n",
       "    </tr>\n",
       "    <tr>\n",
       "      <th>max</th>\n",
       "      <td>401681.000000</td>\n",
       "      <td>2650.000000</td>\n",
       "      <td>40.000000</td>\n",
       "      <td>1765.000000</td>\n",
       "    </tr>\n",
       "  </tbody>\n",
       "</table>\n",
       "</div>"
      ],
      "text/plain": [
       "                  번호           발행년도           도서권수           대출건수\n",
       "count  379976.000000  379976.000000  379976.000000  379976.000000\n",
       "mean   201726.332847    2008.516306       1.135874      11.504629\n",
       "std    115836.454596       8.780529       0.483343      19.241926\n",
       "min         1.000000    1947.000000       0.000000       0.000000\n",
       "25%    102202.750000    2003.000000       1.000000       2.000000\n",
       "50%    203179.500000    2009.000000       1.000000       6.000000\n",
       "75%    301630.250000    2015.000000       1.000000      14.000000\n",
       "max    401681.000000    2650.000000      40.000000    1765.000000"
      ]
     },
     "execution_count": 3,
     "metadata": {},
     "output_type": "execute_result"
    }
   ],
   "source": [
    "# pandas에서 수치형 열에 대한 기술통계 몇 가지 자동 추출\n",
    "ns_book6.describe()"
   ]
  },
  {
   "cell_type": "code",
   "execution_count": 4,
   "id": "6c96d1cc-a852-4306-b4bb-90bec33409b5",
   "metadata": {
    "tags": []
   },
   "outputs": [
    {
     "data": {
      "text/plain": [
       "3206"
      ]
     },
     "execution_count": 4,
     "metadata": {},
     "output_type": "execute_result"
    }
   ],
   "source": [
    "# 도서권수 열의값이 0인 개수의 행 세기\n",
    "sum(ns_book6['도서권수']==0)"
   ]
  },
  {
   "cell_type": "code",
   "execution_count": 5,
   "id": "45084234-2908-40d7-bc70-af327015dd3b",
   "metadata": {
    "tags": []
   },
   "outputs": [],
   "source": [
    "# 전체 데이터 379,976개에 비하면 1%가 안되서 무시할만한 수치\n",
    "# 제외할지 판단해야함 \n",
    "ns_book7 = ns_book6[ns_book6['도서권수']>0]"
   ]
  },
  {
   "cell_type": "code",
   "execution_count": 6,
   "id": "05e5e185-e6b9-47b5-92da-fbc9cf7e526b",
   "metadata": {
    "tags": []
   },
   "outputs": [
    {
     "data": {
      "text/html": [
       "<div>\n",
       "<style scoped>\n",
       "    .dataframe tbody tr th:only-of-type {\n",
       "        vertical-align: middle;\n",
       "    }\n",
       "\n",
       "    .dataframe tbody tr th {\n",
       "        vertical-align: top;\n",
       "    }\n",
       "\n",
       "    .dataframe thead th {\n",
       "        text-align: right;\n",
       "    }\n",
       "</style>\n",
       "<table border=\"1\" class=\"dataframe\">\n",
       "  <thead>\n",
       "    <tr style=\"text-align: right;\">\n",
       "      <th></th>\n",
       "      <th>번호</th>\n",
       "      <th>발행년도</th>\n",
       "      <th>도서권수</th>\n",
       "      <th>대출건수</th>\n",
       "    </tr>\n",
       "  </thead>\n",
       "  <tbody>\n",
       "    <tr>\n",
       "      <th>count</th>\n",
       "      <td>376770.000000</td>\n",
       "      <td>376770.000000</td>\n",
       "      <td>376770.000000</td>\n",
       "      <td>376770.000000</td>\n",
       "    </tr>\n",
       "    <tr>\n",
       "      <th>mean</th>\n",
       "      <td>202977.476649</td>\n",
       "      <td>2008.460076</td>\n",
       "      <td>1.145540</td>\n",
       "      <td>11.593439</td>\n",
       "    </tr>\n",
       "    <tr>\n",
       "      <th>std</th>\n",
       "      <td>115298.245784</td>\n",
       "      <td>8.773148</td>\n",
       "      <td>0.473853</td>\n",
       "      <td>19.279409</td>\n",
       "    </tr>\n",
       "    <tr>\n",
       "      <th>min</th>\n",
       "      <td>1.000000</td>\n",
       "      <td>1947.000000</td>\n",
       "      <td>1.000000</td>\n",
       "      <td>0.000000</td>\n",
       "    </tr>\n",
       "    <tr>\n",
       "      <th>30%</th>\n",
       "      <td>124649.700000</td>\n",
       "      <td>2004.000000</td>\n",
       "      <td>1.000000</td>\n",
       "      <td>2.000000</td>\n",
       "    </tr>\n",
       "    <tr>\n",
       "      <th>50%</th>\n",
       "      <td>204550.500000</td>\n",
       "      <td>2009.000000</td>\n",
       "      <td>1.000000</td>\n",
       "      <td>6.000000</td>\n",
       "    </tr>\n",
       "    <tr>\n",
       "      <th>60%</th>\n",
       "      <td>243537.400000</td>\n",
       "      <td>2011.000000</td>\n",
       "      <td>1.000000</td>\n",
       "      <td>8.000000</td>\n",
       "    </tr>\n",
       "    <tr>\n",
       "      <th>90%</th>\n",
       "      <td>361341.100000</td>\n",
       "      <td>2018.000000</td>\n",
       "      <td>2.000000</td>\n",
       "      <td>28.000000</td>\n",
       "    </tr>\n",
       "    <tr>\n",
       "      <th>max</th>\n",
       "      <td>401681.000000</td>\n",
       "      <td>2650.000000</td>\n",
       "      <td>40.000000</td>\n",
       "      <td>1765.000000</td>\n",
       "    </tr>\n",
       "  </tbody>\n",
       "</table>\n",
       "</div>"
      ],
      "text/plain": [
       "                  번호           발행년도           도서권수           대출건수\n",
       "count  376770.000000  376770.000000  376770.000000  376770.000000\n",
       "mean   202977.476649    2008.460076       1.145540      11.593439\n",
       "std    115298.245784       8.773148       0.473853      19.279409\n",
       "min         1.000000    1947.000000       1.000000       0.000000\n",
       "30%    124649.700000    2004.000000       1.000000       2.000000\n",
       "50%    204550.500000    2009.000000       1.000000       6.000000\n",
       "60%    243537.400000    2011.000000       1.000000       8.000000\n",
       "90%    361341.100000    2018.000000       2.000000      28.000000\n",
       "max    401681.000000    2650.000000      40.000000    1765.000000"
      ]
     },
     "execution_count": 6,
     "metadata": {},
     "output_type": "execute_result"
    }
   ],
   "source": [
    "ns_book7.describe(percentiles=[0.3, 0.6, 0.9])"
   ]
  },
  {
   "cell_type": "code",
   "execution_count": 7,
   "id": "d6721220-58f5-4af7-a427-f3622851a9f7",
   "metadata": {
    "tags": []
   },
   "outputs": [
    {
     "data": {
      "text/html": [
       "<div>\n",
       "<style scoped>\n",
       "    .dataframe tbody tr th:only-of-type {\n",
       "        vertical-align: middle;\n",
       "    }\n",
       "\n",
       "    .dataframe tbody tr th {\n",
       "        vertical-align: top;\n",
       "    }\n",
       "\n",
       "    .dataframe thead th {\n",
       "        text-align: right;\n",
       "    }\n",
       "</style>\n",
       "<table border=\"1\" class=\"dataframe\">\n",
       "  <thead>\n",
       "    <tr style=\"text-align: right;\">\n",
       "      <th></th>\n",
       "      <th>도서명</th>\n",
       "      <th>저자</th>\n",
       "      <th>출판사</th>\n",
       "      <th>ISBN</th>\n",
       "      <th>세트 ISBN</th>\n",
       "      <th>부가기호</th>\n",
       "      <th>권</th>\n",
       "      <th>주제분류번호</th>\n",
       "      <th>등록일자</th>\n",
       "    </tr>\n",
       "  </thead>\n",
       "  <tbody>\n",
       "    <tr>\n",
       "      <th>count</th>\n",
       "      <td>376770</td>\n",
       "      <td>376770</td>\n",
       "      <td>376770</td>\n",
       "      <td>376770</td>\n",
       "      <td>55866</td>\n",
       "      <td>308252</td>\n",
       "      <td>61793</td>\n",
       "      <td>359792</td>\n",
       "      <td>376770</td>\n",
       "    </tr>\n",
       "    <tr>\n",
       "      <th>unique</th>\n",
       "      <td>336408</td>\n",
       "      <td>248850</td>\n",
       "      <td>21875</td>\n",
       "      <td>350810</td>\n",
       "      <td>14875</td>\n",
       "      <td>17</td>\n",
       "      <td>834</td>\n",
       "      <td>12467</td>\n",
       "      <td>4562</td>\n",
       "    </tr>\n",
       "    <tr>\n",
       "      <th>top</th>\n",
       "      <td>승정원일기</td>\n",
       "      <td>세종대왕기념사업회 [편]</td>\n",
       "      <td>문학동네</td>\n",
       "      <td>9788937430299</td>\n",
       "      <td>9788937460005</td>\n",
       "      <td>0</td>\n",
       "      <td>1</td>\n",
       "      <td>813.6</td>\n",
       "      <td>1970-01-01</td>\n",
       "    </tr>\n",
       "    <tr>\n",
       "      <th>freq</th>\n",
       "      <td>250</td>\n",
       "      <td>303</td>\n",
       "      <td>4410</td>\n",
       "      <td>206</td>\n",
       "      <td>702</td>\n",
       "      <td>158235</td>\n",
       "      <td>13282</td>\n",
       "      <td>14816</td>\n",
       "      <td>28185</td>\n",
       "    </tr>\n",
       "  </tbody>\n",
       "</table>\n",
       "</div>"
      ],
      "text/plain": [
       "           도서명             저자     출판사           ISBN        세트 ISBN    부가기호  \\\n",
       "count   376770         376770  376770         376770          55866  308252   \n",
       "unique  336408         248850   21875         350810          14875      17   \n",
       "top      승정원일기  세종대왕기념사업회 [편]    문학동네  9788937430299  9788937460005       0   \n",
       "freq       250            303    4410            206            702  158235   \n",
       "\n",
       "            권  주제분류번호        등록일자  \n",
       "count   61793  359792      376770  \n",
       "unique    834   12467        4562  \n",
       "top         1   813.6  1970-01-01  \n",
       "freq    13282   14816       28185  "
      ]
     },
     "execution_count": 7,
     "metadata": {},
     "output_type": "execute_result"
    }
   ],
   "source": [
    "# 다른 데이터 타입의 열의 기술 통계\n",
    "ns_book7.describe(include='object')"
   ]
  },
  {
   "cell_type": "markdown",
   "id": "0acee9bb-149a-42fa-b7fa-6f92120a80c8",
   "metadata": {},
   "source": [
    "### 평균 구하기"
   ]
  },
  {
   "cell_type": "code",
   "execution_count": 8,
   "id": "5ac431b5-e0f8-4df8-9f73-39ff5aea426f",
   "metadata": {
    "tags": []
   },
   "outputs": [
    {
     "name": "stdout",
     "output_type": "stream",
     "text": [
      "20.0\n"
     ]
    }
   ],
   "source": [
    "x = [10, 20, 30]\n",
    "sum = 0\n",
    "for i in range(3):\n",
    "    sum += x[i]\n",
    "print(sum/len(x))"
   ]
  },
  {
   "cell_type": "markdown",
   "id": "abba2908-5152-49eb-98c7-0e4b8e40d826",
   "metadata": {},
   "source": [
    "#### mean() method"
   ]
  },
  {
   "cell_type": "code",
   "execution_count": 9,
   "id": "0255f9bb-cbe4-4367-8bea-9dc2e6dcb89e",
   "metadata": {
    "tags": []
   },
   "outputs": [
    {
     "data": {
      "text/plain": [
       "11.593438968070707"
      ]
     },
     "execution_count": 9,
     "metadata": {},
     "output_type": "execute_result"
    }
   ],
   "source": [
    "# pandas 평균\n",
    "ns_book7['대출건수'].mean()"
   ]
  },
  {
   "cell_type": "markdown",
   "id": "a490e9d4-c9a1-40e2-a18b-669d5276da4c",
   "metadata": {},
   "source": [
    "### 중앙값 구하기\n",
    "#### median() method"
   ]
  },
  {
   "cell_type": "code",
   "execution_count": 10,
   "id": "37a63c2a-4678-49ef-b58b-d824b5697a0d",
   "metadata": {
    "tags": []
   },
   "outputs": [
    {
     "data": {
      "text/plain": [
       "6.0"
      ]
     },
     "execution_count": 10,
     "metadata": {},
     "output_type": "execute_result"
    }
   ],
   "source": [
    "# pandas 중앙값\n",
    "ns_book7['대출건수'].median()"
   ]
  },
  {
   "cell_type": "code",
   "execution_count": 11,
   "id": "e1cd6016-c58f-4242-9da2-d2690fd3f83f",
   "metadata": {
    "tags": []
   },
   "outputs": [
    {
     "data": {
      "text/plain": [
       "0    2.5\n",
       "dtype: float64"
      ]
     },
     "execution_count": 11,
     "metadata": {},
     "output_type": "execute_result"
    }
   ],
   "source": [
    "# 데이터가 짝수개면 가운데 두개의 평균이 중앙값\n",
    "temp_df = pd.DataFrame([1,2,3,4])\n",
    "temp_df.median()"
   ]
  },
  {
   "cell_type": "markdown",
   "id": "f600d0d9-fb50-429e-a1c5-0f491bf0059e",
   "metadata": {},
   "source": [
    "#### 중복값 제거하고 중앙값 구하기"
   ]
  },
  {
   "cell_type": "code",
   "execution_count": 12,
   "id": "889c21ee-05bb-4553-96ae-a3ddb60bb8e2",
   "metadata": {
    "tags": []
   },
   "outputs": [
    {
     "data": {
      "text/plain": [
       "183.0"
      ]
     },
     "execution_count": 12,
     "metadata": {},
     "output_type": "execute_result"
    }
   ],
   "source": [
    "ns_book7['대출건수'].drop_duplicates().median()"
   ]
  },
  {
   "cell_type": "markdown",
   "id": "e869b7a9-1474-4f04-9c81-b23c49f4bcd4",
   "metadata": {},
   "source": [
    "### 최솟값, 최댓값 구하기"
   ]
  },
  {
   "cell_type": "code",
   "execution_count": 13,
   "id": "9c3265be-2779-43ae-b82b-f235cae8a656",
   "metadata": {
    "tags": []
   },
   "outputs": [
    {
     "data": {
      "text/plain": [
       "0"
      ]
     },
     "execution_count": 13,
     "metadata": {},
     "output_type": "execute_result"
    }
   ],
   "source": [
    "ns_book7['대출건수'].min()"
   ]
  },
  {
   "cell_type": "code",
   "execution_count": 14,
   "id": "3602cf50-90d9-45d2-b224-a16717b74e6b",
   "metadata": {
    "tags": []
   },
   "outputs": [
    {
     "data": {
      "text/plain": [
       "1765"
      ]
     },
     "execution_count": 14,
     "metadata": {},
     "output_type": "execute_result"
    }
   ],
   "source": [
    "ns_book7['대출건수'].max()"
   ]
  },
  {
   "cell_type": "markdown",
   "id": "4fde3677-33c3-460e-978c-bda718191ee6",
   "metadata": {},
   "source": [
    "### 분위수 구하기\n",
    "- 분위수는 데이터를 순서대로 늘어 놓았을 때 이를 균등한 간격으로 나누는 기준\n",
    "- 이분위수는 두 구간으로 나누기에 중앙값에 해당 \n",
    "- 많이 사용하는 사분위수는 25%, 50%, 75%에 해당"
   ]
  },
  {
   "cell_type": "markdown",
   "id": "ba161fb3-9152-4201-86e3-2e1d189c8a2e",
   "metadata": {},
   "source": [
    "#### quantile() method"
   ]
  },
  {
   "cell_type": "code",
   "execution_count": 15,
   "id": "5ba244ed-86d4-46dc-85bc-2fb0b249f2bc",
   "metadata": {
    "tags": []
   },
   "outputs": [
    {
     "data": {
      "text/plain": [
       "2.0"
      ]
     },
     "execution_count": 15,
     "metadata": {},
     "output_type": "execute_result"
    }
   ],
   "source": [
    "ns_book7['대출건수'].quantile(0.25)"
   ]
  },
  {
   "cell_type": "code",
   "execution_count": 16,
   "id": "6b4348c3-ce55-4e86-be13-746a929772db",
   "metadata": {
    "tags": []
   },
   "outputs": [
    {
     "data": {
      "text/plain": [
       "0.25     2.0\n",
       "0.50     6.0\n",
       "0.75    14.0\n",
       "Name: 대출건수, dtype: float64"
      ]
     },
     "execution_count": 16,
     "metadata": {},
     "output_type": "execute_result"
    }
   ],
   "source": [
    "ns_book7['대출건수'].quantile([0.25, 0.5, 0.75])"
   ]
  },
  {
   "cell_type": "code",
   "execution_count": 17,
   "id": "703431ba-ccd0-4135-bd7d-51134355c3ee",
   "metadata": {
    "tags": []
   },
   "outputs": [
    {
     "data": {
      "text/plain": [
       "4.6"
      ]
     },
     "execution_count": 17,
     "metadata": {},
     "output_type": "execute_result"
    }
   ],
   "source": [
    "pd.Series([1,2,3,4,5]).quantile(0.9) # series 객체 정의한 후 분위수 구하기"
   ]
  },
  {
   "cell_type": "code",
   "execution_count": 18,
   "id": "cecc23a0-edcb-4ca8-a41e-c6a3ca92e205",
   "metadata": {
    "tags": []
   },
   "outputs": [
    {
     "data": {
      "text/plain": [
       "4.5"
      ]
     },
     "execution_count": 18,
     "metadata": {},
     "output_type": "execute_result"
    }
   ],
   "source": [
    "# 두 지점 사이에 놓인 특정위치의 값을 구하기: 보간\n",
    "pd.Series([1,2,3,4,5]).quantile(0.9, interpolation='midpoint') # 중앙값"
   ]
  },
  {
   "cell_type": "code",
   "execution_count": 19,
   "id": "959e1beb-41e5-4ad1-a995-df20917f2734",
   "metadata": {
    "tags": []
   },
   "outputs": [
    {
     "data": {
      "text/plain": [
       "5"
      ]
     },
     "execution_count": 19,
     "metadata": {},
     "output_type": "execute_result"
    }
   ],
   "source": [
    "pd.Series([1,2,3,4,5]).quantile(0.9, interpolation='nearest') # 더 가까운 값 "
   ]
  },
  {
   "cell_type": "markdown",
   "id": "0ccbafb7-dbe6-420f-adf4-855b25f3b4b1",
   "metadata": {},
   "source": [
    "#### 백분위 구하기"
   ]
  },
  {
   "cell_type": "code",
   "execution_count": 20,
   "id": "86380457-50d5-412f-8f5e-56437d070372",
   "metadata": {
    "tags": []
   },
   "outputs": [],
   "source": [
    "borrow_10_flag = ns_book7['대출건수'] < 10"
   ]
  },
  {
   "cell_type": "code",
   "execution_count": 21,
   "id": "f547fd34-4e34-45a6-b0ea-401a8b07b3cf",
   "metadata": {
    "tags": []
   },
   "outputs": [
    {
     "data": {
      "text/plain": [
       "0.6402712530190833"
      ]
     },
     "execution_count": 21,
     "metadata": {},
     "output_type": "execute_result"
    }
   ],
   "source": [
    "borrow_10_flag.mean()"
   ]
  },
  {
   "cell_type": "code",
   "execution_count": 22,
   "id": "39effa83-7cee-4697-b7ad-ea9ccf6071b5",
   "metadata": {
    "tags": []
   },
   "outputs": [
    {
     "data": {
      "text/plain": [
       "10.0"
      ]
     },
     "execution_count": 22,
     "metadata": {},
     "output_type": "execute_result"
    }
   ],
   "source": [
    "# 10권 대출에 대한 백분위는 약 0.65\n",
    "ns_book7['대출건수'].quantile(0.65)"
   ]
  },
  {
   "cell_type": "markdown",
   "id": "10cb1b00-abe0-452a-b624-a08692ff71fc",
   "metadata": {},
   "source": [
    "### 분산 구하기\n",
    "- 평균으로부터 데이터가 얼마나 퍼져있는지를 나타내는 통계량"
   ]
  },
  {
   "cell_type": "markdown",
   "id": "68055b3a-a41a-4973-a280-8865d277536e",
   "metadata": {},
   "source": [
    "#### var() method"
   ]
  },
  {
   "cell_type": "code",
   "execution_count": 23,
   "id": "4c7fb66f-7147-41bc-af66-e530ff559ac2",
   "metadata": {
    "tags": []
   },
   "outputs": [
    {
     "data": {
      "text/plain": [
       "371.6956304306922"
      ]
     },
     "execution_count": 23,
     "metadata": {},
     "output_type": "execute_result"
    }
   ],
   "source": [
    "ns_book7['대출건수'].var()"
   ]
  },
  {
   "cell_type": "markdown",
   "id": "36975d0b-2ad9-4c9f-9464-f2e8e31ade8f",
   "metadata": {},
   "source": [
    "### 표준편차 구하기\n",
    "- 분산에 제곱근을 한 것, s"
   ]
  },
  {
   "cell_type": "markdown",
   "id": "90e24529-bb67-4a20-be70-c2317465d16e",
   "metadata": {},
   "source": [
    "#### std() method"
   ]
  },
  {
   "cell_type": "code",
   "execution_count": 24,
   "id": "b7017c6f-6dd1-44d7-acf1-11641e77aaee",
   "metadata": {
    "tags": []
   },
   "outputs": [
    {
     "data": {
      "text/plain": [
       "19.27940949382766"
      ]
     },
     "execution_count": 24,
     "metadata": {},
     "output_type": "execute_result"
    }
   ],
   "source": [
    "ns_book7['대출건수'].std()"
   ]
  },
  {
   "cell_type": "code",
   "execution_count": 27,
   "id": "3786ddc0-f40e-41bb-875c-6be0bde3bb94",
   "metadata": {
    "tags": []
   },
   "outputs": [
    {
     "data": {
      "text/plain": [
       "19.279409493785508"
      ]
     },
     "execution_count": 27,
     "metadata": {},
     "output_type": "execute_result"
    }
   ],
   "source": [
    "import numpy as np\n",
    "diff = ns_book7['대출건수'] - ns_book7['대출건수'].mean()\n",
    "np.sqrt(np.sum(diff**2)/(len(ns_book7)-1))"
   ]
  },
  {
   "cell_type": "markdown",
   "id": "eebdc85b-a987-4895-a2a5-1766016cd6bf",
   "metadata": {
    "tags": []
   },
   "source": [
    "### 최빈값 구하기\n",
    "- 데이터에서 가장 많이 등장하는 값"
   ]
  },
  {
   "cell_type": "markdown",
   "id": "baa0f532-a64d-4c22-81bc-fcc7a7eaaddb",
   "metadata": {},
   "source": [
    "#### mode() method"
   ]
  },
  {
   "cell_type": "code",
   "execution_count": 29,
   "id": "d254add9-8cb2-404c-97bf-3494c6654af6",
   "metadata": {
    "tags": []
   },
   "outputs": [
    {
     "data": {
      "text/plain": [
       "0    승정원일기\n",
       "Name: 도서명, dtype: object"
      ]
     },
     "execution_count": 29,
     "metadata": {},
     "output_type": "execute_result"
    }
   ],
   "source": [
    "ns_book7['도서명'].mode()"
   ]
  },
  {
   "cell_type": "code",
   "execution_count": 30,
   "id": "ba17a211-9814-42a6-81a9-5f5104dedb17",
   "metadata": {
    "tags": []
   },
   "outputs": [
    {
     "data": {
      "text/plain": [
       "0    2012.0\n",
       "Name: 발행년도, dtype: float64"
      ]
     },
     "execution_count": 30,
     "metadata": {},
     "output_type": "execute_result"
    }
   ],
   "source": [
    "ns_book7['발행년도'].mode()"
   ]
  },
  {
   "cell_type": "markdown",
   "id": "64b8cace-aa8f-4431-b4bb-cd092293e10e",
   "metadata": {},
   "source": [
    "### dataframe에서 기술통계 구하기\n",
    "- 해당 열에만 적용되도록 numeric_only 매개변수를 True로 설정, 안하면 시간이 오랙 ㅓㄹ림"
   ]
  },
  {
   "cell_type": "code",
   "execution_count": 31,
   "id": "0b403477-ebeb-4825-bd68-f7525c3aaf9b",
   "metadata": {
    "tags": []
   },
   "outputs": [
    {
     "data": {
      "text/plain": [
       "번호      202977.476649\n",
       "발행년도      2008.460076\n",
       "도서권수         1.145540\n",
       "대출건수        11.593439\n",
       "dtype: float64"
      ]
     },
     "execution_count": 31,
     "metadata": {},
     "output_type": "execute_result"
    }
   ],
   "source": [
    "ns_book7.mean(numeric_only=True)"
   ]
  },
  {
   "cell_type": "code",
   "execution_count": 32,
   "id": "fcdfbfa7-6097-4c6a-8062-18ba114596da",
   "metadata": {
    "tags": []
   },
   "outputs": [
    {
     "data": {
      "text/html": [
       "<div>\n",
       "<style scoped>\n",
       "    .dataframe tbody tr th:only-of-type {\n",
       "        vertical-align: middle;\n",
       "    }\n",
       "\n",
       "    .dataframe tbody tr th {\n",
       "        vertical-align: top;\n",
       "    }\n",
       "\n",
       "    .dataframe thead th {\n",
       "        text-align: right;\n",
       "    }\n",
       "</style>\n",
       "<table border=\"1\" class=\"dataframe\">\n",
       "  <thead>\n",
       "    <tr style=\"text-align: right;\">\n",
       "      <th></th>\n",
       "      <th>도서명</th>\n",
       "      <th>저자</th>\n",
       "      <th>출판사</th>\n",
       "      <th>발행년도</th>\n",
       "      <th>ISBN</th>\n",
       "      <th>세트 ISBN</th>\n",
       "      <th>부가기호</th>\n",
       "      <th>권</th>\n",
       "      <th>주제분류번호</th>\n",
       "      <th>도서권수</th>\n",
       "      <th>대출건수</th>\n",
       "      <th>등록일자</th>\n",
       "    </tr>\n",
       "  </thead>\n",
       "  <tbody>\n",
       "    <tr>\n",
       "      <th>0</th>\n",
       "      <td>승정원일기</td>\n",
       "      <td>세종대왕기념사업회 [편]</td>\n",
       "      <td>문학동네</td>\n",
       "      <td>2012.0</td>\n",
       "      <td>9788937430299</td>\n",
       "      <td>9788937460005</td>\n",
       "      <td>0</td>\n",
       "      <td>1</td>\n",
       "      <td>813.6</td>\n",
       "      <td>1</td>\n",
       "      <td>0</td>\n",
       "      <td>1970-01-01</td>\n",
       "    </tr>\n",
       "  </tbody>\n",
       "</table>\n",
       "</div>"
      ],
      "text/plain": [
       "     도서명             저자   출판사    발행년도           ISBN        세트 ISBN 부가기호  권  \\\n",
       "0  승정원일기  세종대왕기념사업회 [편]  문학동네  2012.0  9788937430299  9788937460005    0  1   \n",
       "\n",
       "  주제분류번호  도서권수  대출건수        등록일자  \n",
       "0  813.6     1     0  1970-01-01  "
      ]
     },
     "execution_count": 32,
     "metadata": {},
     "output_type": "execute_result"
    }
   ],
   "source": [
    "ns_book7.loc[:, '도서명':].mode() # loc method로 도서명 열부터 마지막까지"
   ]
  },
  {
   "cell_type": "code",
   "execution_count": 33,
   "id": "009839a1-40f6-43d9-85be-c24551240eca",
   "metadata": {
    "tags": []
   },
   "outputs": [],
   "source": [
    "# 승정원일기는 문학동네 도서가 아님 ! \n",
    "ns_book7.to_csv('ns_book7.csv', index=False)"
   ]
  },
  {
   "cell_type": "markdown",
   "id": "5343dc5e-d91d-42cf-aca8-fa4dc7a4fd83",
   "metadata": {},
   "source": [
    "## Numpy의 기술통계 함수"
   ]
  },
  {
   "cell_type": "markdown",
   "id": "1cae8fa9-af01-4e8e-96f5-ed857b837555",
   "metadata": {},
   "source": [
    "### 평균 구하기"
   ]
  },
  {
   "cell_type": "code",
   "execution_count": 34,
   "id": "7fa2f952-34ac-41aa-afba-0b7473255809",
   "metadata": {
    "tags": []
   },
   "outputs": [
    {
     "data": {
      "text/plain": [
       "11.593438968070707"
      ]
     },
     "execution_count": 34,
     "metadata": {},
     "output_type": "execute_result"
    }
   ],
   "source": [
    "import numpy as np\n",
    "np.mean(ns_book7['대출건수'])"
   ]
  },
  {
   "cell_type": "code",
   "execution_count": 36,
   "id": "f5d16f24-9361-4d6c-bc5a-09757734f696",
   "metadata": {
    "tags": []
   },
   "outputs": [
    {
     "data": {
      "text/plain": [
       "10.543612175385386"
      ]
     },
     "execution_count": 36,
     "metadata": {},
     "output_type": "execute_result"
    }
   ],
   "source": [
    "# 가중평균\n",
    "np.average(ns_book7['대출건수'], weights=1/ns_book7['도서권수'])"
   ]
  },
  {
   "cell_type": "code",
   "execution_count": 37,
   "id": "2dea4624-dbd6-4fd8-9a79-6f70a688e8b1",
   "metadata": {
    "tags": []
   },
   "outputs": [
    {
     "data": {
      "text/plain": [
       "9.873029861445774"
      ]
     },
     "execution_count": 37,
     "metadata": {},
     "output_type": "execute_result"
    }
   ],
   "source": [
    "np.mean(ns_book7['대출건수']/ns_book7['도서권수'])"
   ]
  },
  {
   "cell_type": "code",
   "execution_count": 38,
   "id": "0f05c7e8-125d-46fd-a37d-471172407544",
   "metadata": {
    "tags": []
   },
   "outputs": [
    {
     "data": {
      "text/plain": [
       "10.120503701300958"
      ]
     },
     "execution_count": 38,
     "metadata": {},
     "output_type": "execute_result"
    }
   ],
   "source": [
    "ns_book7['대출건수'].sum()/ns_book7['도서권수'].sum()"
   ]
  },
  {
   "cell_type": "markdown",
   "id": "252bdbaf-8eef-459e-ac2c-e6caa11af75a",
   "metadata": {},
   "source": [
    "### 중앙값 구하기"
   ]
  },
  {
   "cell_type": "code",
   "execution_count": 39,
   "id": "3e6de08c-e7e6-4a96-850e-8411e4330744",
   "metadata": {
    "tags": []
   },
   "outputs": [
    {
     "data": {
      "text/plain": [
       "6.0"
      ]
     },
     "execution_count": 39,
     "metadata": {},
     "output_type": "execute_result"
    }
   ],
   "source": [
    "np.median(ns_book7['대출건수'])"
   ]
  },
  {
   "cell_type": "markdown",
   "id": "ed79de3c-7736-4293-b0cd-459449b8edbc",
   "metadata": {},
   "source": [
    "### 최대값, 최소값 구하기"
   ]
  },
  {
   "cell_type": "code",
   "execution_count": 40,
   "id": "53cfe898-677d-4371-a340-943dba229574",
   "metadata": {
    "tags": []
   },
   "outputs": [
    {
     "data": {
      "text/plain": [
       "0"
      ]
     },
     "execution_count": 40,
     "metadata": {},
     "output_type": "execute_result"
    }
   ],
   "source": [
    "np.min(ns_book7['대출건수'])"
   ]
  },
  {
   "cell_type": "code",
   "execution_count": 41,
   "id": "a423a647-eaac-4ed6-a997-2e5cbe8a053b",
   "metadata": {
    "tags": []
   },
   "outputs": [
    {
     "data": {
      "text/plain": [
       "1765"
      ]
     },
     "execution_count": 41,
     "metadata": {},
     "output_type": "execute_result"
    }
   ],
   "source": [
    "np.max(ns_book7['대출건수'])"
   ]
  },
  {
   "cell_type": "markdown",
   "id": "ed832891-bc2f-4d29-a6df-0f0e86aa18b1",
   "metadata": {},
   "source": [
    "### 분위수 구하기"
   ]
  },
  {
   "cell_type": "code",
   "execution_count": 42,
   "id": "566c7356-fd3b-4a39-b623-bbac3064bf68",
   "metadata": {
    "tags": []
   },
   "outputs": [
    {
     "data": {
      "text/plain": [
       "array([ 2.,  6., 14.])"
      ]
     },
     "execution_count": 42,
     "metadata": {},
     "output_type": "execute_result"
    }
   ],
   "source": [
    "np.quantile(ns_book7['대출건수'], [0.25, 0.5, 0.75])"
   ]
  },
  {
   "cell_type": "markdown",
   "id": "36e28555-de0a-47f7-9ae6-7ef57de8ae73",
   "metadata": {},
   "source": [
    "### 분산 구하기"
   ]
  },
  {
   "cell_type": "code",
   "execution_count": 43,
   "id": "86683516-b814-459d-afe0-8961a8d51698",
   "metadata": {
    "tags": []
   },
   "outputs": [
    {
     "data": {
      "text/plain": [
       "371.694643898775"
      ]
     },
     "execution_count": 43,
     "metadata": {},
     "output_type": "execute_result"
    }
   ],
   "source": [
    "np.var(ns_book7['대출건수'])"
   ]
  },
  {
   "cell_type": "code",
   "execution_count": 44,
   "id": "62621bc7-ab1c-4f8c-b0f7-0df5f5a1a924",
   "metadata": {
    "tags": []
   },
   "outputs": [
    {
     "data": {
      "text/plain": [
       "371.6956304306922"
      ]
     },
     "execution_count": 44,
     "metadata": {},
     "output_type": "execute_result"
    }
   ],
   "source": [
    "ns_book7['대출건수'].var() # pandas"
   ]
  },
  {
   "cell_type": "markdown",
   "id": "f349cdae-1d7e-46df-87a5-82909796ced3",
   "metadata": {},
   "source": [
    "### n-1 자유도\n",
    "pandas는 n-1로 나눈다. "
   ]
  },
  {
   "cell_type": "code",
   "execution_count": 45,
   "id": "12f11541-fa33-4dd1-bfd0-c8269e6ee78d",
   "metadata": {
    "tags": []
   },
   "outputs": [
    {
     "data": {
      "text/plain": [
       "371.694643898775"
      ]
     },
     "execution_count": 45,
     "metadata": {},
     "output_type": "execute_result"
    }
   ],
   "source": [
    "ns_book7['대출건수'].var(ddof=0) # pandas"
   ]
  },
  {
   "cell_type": "code",
   "execution_count": 47,
   "id": "b5fdaa43-b29d-46ef-9372-82d0e2c6e34e",
   "metadata": {
    "tags": []
   },
   "outputs": [
    {
     "data": {
      "text/plain": [
       "371.6956304306922"
      ]
     },
     "execution_count": 47,
     "metadata": {},
     "output_type": "execute_result"
    }
   ],
   "source": [
    "np.var(ns_book7['대출건수'], ddof=1) # numpy"
   ]
  },
  {
   "cell_type": "markdown",
   "id": "2729db5e-04be-472f-8051-622edd86e84f",
   "metadata": {},
   "source": [
    "### 표준편차 구하기"
   ]
  },
  {
   "cell_type": "code",
   "execution_count": 48,
   "id": "a62fa0a2-c284-43b0-8f00-ffa5dcebb3ac",
   "metadata": {
    "tags": []
   },
   "outputs": [
    {
     "data": {
      "text/plain": [
       "19.279383908693113"
      ]
     },
     "execution_count": 48,
     "metadata": {},
     "output_type": "execute_result"
    }
   ],
   "source": [
    "np.std(ns_book7['대출건수'])"
   ]
  },
  {
   "cell_type": "markdown",
   "id": "5147fcc9-58bb-4296-b9e6-3fc970b7c264",
   "metadata": {},
   "source": [
    "### 최빈값 구하기\n",
    "numpy는 최빈값을 계산하는 함수를 제공하지 않으나\n",
    "unique()를 통해 배열에서 고유한 값을 찾아, counts 매개변수를 True로 바꿔 등장 횟수도 반환하게 하자."
   ]
  },
  {
   "cell_type": "code",
   "execution_count": 50,
   "id": "88c69276-ace4-464c-946c-a041738d923f",
   "metadata": {
    "tags": []
   },
   "outputs": [],
   "source": [
    "values, counts = np.unique(ns_book7['도서명'], return_counts=True)"
   ]
  },
  {
   "cell_type": "code",
   "execution_count": 51,
   "id": "38461143-2534-4177-b38b-50574d7a04b3",
   "metadata": {
    "tags": []
   },
   "outputs": [],
   "source": [
    "max_idx = np.argmax(counts) # argmax() : 가장 큰 값 인덱스 찾기"
   ]
  },
  {
   "cell_type": "code",
   "execution_count": 52,
   "id": "28215072-e73f-4a39-ab40-7ea59d759228",
   "metadata": {
    "tags": []
   },
   "outputs": [
    {
     "data": {
      "text/plain": [
       "'승정원일기'"
      ]
     },
     "execution_count": 52,
     "metadata": {},
     "output_type": "execute_result"
    }
   ],
   "source": [
    "values[max_idx]"
   ]
  },
  {
   "cell_type": "code",
   "execution_count": null,
   "id": "79b0e2e0-810b-4481-81e0-d6b2521a145b",
   "metadata": {},
   "outputs": [],
   "source": []
  }
 ],
 "metadata": {
  "kernelspec": {
   "display_name": "Python 3 (ipykernel)",
   "language": "python",
   "name": "python3"
  },
  "language_info": {
   "codemirror_mode": {
    "name": "ipython",
    "version": 3
   },
   "file_extension": ".py",
   "mimetype": "text/x-python",
   "name": "python",
   "nbconvert_exporter": "python",
   "pygments_lexer": "ipython3",
   "version": "3.11.5"
  }
 },
 "nbformat": 4,
 "nbformat_minor": 5
}
